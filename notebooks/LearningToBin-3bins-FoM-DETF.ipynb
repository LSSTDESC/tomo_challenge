{
 "cells": [
  {
   "cell_type": "code",
   "execution_count": 1,
   "metadata": {},
   "outputs": [
    {
     "name": "stdout",
     "output_type": "stream",
     "text": [
      "Populating the interactive namespace from numpy and matplotlib\n"
     ]
    }
   ],
   "source": [
    "import sys\n",
    "sys.path.insert(0, '..')\n",
    "%load_ext autoreload\n",
    "%autoreload 2\n",
    "\n",
    "%pylab inline"
   ]
  },
  {
   "cell_type": "code",
   "execution_count": 2,
   "metadata": {},
   "outputs": [
    {
     "name": "stdout",
     "output_type": "stream",
     "text": [
      "Found classifier IBandOnly\n",
      "Found classifier NeuralNetwork\n",
      "Found classifier Random\n",
      "Found classifier RandomForest\n"
     ]
    }
   ],
   "source": [
    "# Import JAX instead of numpy\n",
    "import jax.numpy as np\n",
    "import jax.random as rand\n",
    "from jax import jit, vmap, grad, value_and_grad\n",
    "\n",
    "# Import modified version of challenge metrics\n",
    "from tomo_challenge import jax_metrics as metrics\n",
    "\n",
    "# Import tools from jax-cosmo\n",
    "from jax_cosmo.redshift import kde_nz"
   ]
  },
  {
   "cell_type": "markdown",
   "metadata": {},
   "source": [
    "## Loading the data"
   ]
  },
  {
   "cell_type": "code",
   "execution_count": 3,
   "metadata": {},
   "outputs": [
    {
     "name": "stderr",
     "output_type": "stream",
     "text": [
      "../tomo_challenge/data.py:76: UserWarning: Setting inf (undetected) bands to mag=30\n",
      "  warnings.warn(\"Setting inf (undetected) bands to mag=30\")\n"
     ]
    }
   ],
   "source": [
    "from tomo_challenge.data import load_data, load_redshift\n",
    "from sklearn.preprocessing import StandardScaler, RobustScaler\n",
    "features_scaler = RobustScaler()\n",
    "\n",
    "data = load_data('../data/training.hdf5','riz',colors=True, errors=True, array=True)\n",
    "m = (data[:,0] <29) & (data[:,1] <29) & (data[:,2] <29)\n",
    "data = data[m]\n",
    "\n",
    "features = np.clip(np.array(features_scaler.fit_transform(data)),-4,4)\n",
    "labels = np.array(load_redshift('../data/training.hdf5'))[m]"
   ]
  },
  {
   "cell_type": "code",
   "execution_count": 4,
   "metadata": {},
   "outputs": [
    {
     "data": {
      "text/plain": [
       "(8552577, 12)"
      ]
     },
     "execution_count": 4,
     "metadata": {},
     "output_type": "execute_result"
    }
   ],
   "source": [
    "features.shape"
   ]
  },
  {
   "cell_type": "code",
   "execution_count": 5,
   "metadata": {},
   "outputs": [],
   "source": [
    "# Let's grab some data\n",
    "batch_size = 2000\n",
    "\n",
    "batch_labels = labels[:batch_size]\n",
    "batch_features = features[:batch_size]"
   ]
  },
  {
   "cell_type": "code",
   "execution_count": 6,
   "metadata": {},
   "outputs": [],
   "source": [
    "# Let's build an n(z) using a KDE\n",
    "nz = kde_nz(batch_labels, np.ones_like(batch_labels),  bw=0.01)"
   ]
  },
  {
   "cell_type": "code",
   "execution_count": 7,
   "metadata": {},
   "outputs": [
    {
     "data": {
      "text/plain": [
       "Text(0.5, 0, 'redshift z')"
      ]
     },
     "execution_count": 7,
     "metadata": {},
     "output_type": "execute_result"
    },
    {
     "data": {
      "image/png": "[encoded data removed]",
      "text/plain": [
       "<Figure size 432x288 with 1 Axes>"
      ]
     },
     "metadata": {
      "needs_background": "light"
     },
     "output_type": "display_data"
    }
   ],
   "source": [
    "z = np.linspace(0,4)\n",
    "hist(batch_labels, 64, density=True)\n",
    "plot(z, nz(z), label='KDE nz')\n",
    "xlim(0,4)\n",
    "legend()\n",
    "xlabel('redshift z')"
   ]
  },
  {
   "cell_type": "code",
   "execution_count": 8,
   "metadata": {},
   "outputs": [
    {
     "data": {
      "image/png": "[encoded data removed]",
      "text/plain": [
       "<Figure size 432x288 with 1 Axes>"
      ]
     },
     "metadata": {
      "needs_background": "light"
     },
     "output_type": "display_data"
    }
   ],
   "source": [
    "# Checking normalization of features\n",
    "for i in range(12):\n",
    "    hist(batch_features[:,i],100, alpha=0.3)"
   ]
  },
  {
   "cell_type": "code",
   "execution_count": 9,
   "metadata": {},
   "outputs": [],
   "source": [
    "import jax\n",
    "import jax_cosmo"
   ]
  },
  {
   "cell_type": "code",
   "execution_count": 10,
   "metadata": {},
   "outputs": [
    {
     "name": "stderr",
     "output_type": "stream",
     "text": [
      "/home/francois/.local/lib/python3.8/site-packages/jax/lax/lax.py:5591: UserWarning: Explicitly requested dtype float64 requested in asarray is not available, and will be truncated to dtype float32. To enable more dtypes, set the jax_enable_x64 configuration option or the JAX_ENABLE_X64 shell environment variable. See https://github.com/google/jax#current-gotchas for more.\n",
      "  warnings.warn(msg.format(dtype, fun_name , truncated_dtype))\n",
      "/home/francois/.local/lib/python3.8/site-packages/jax/lax/lax.py:5591: UserWarning: Explicitly requested dtype float64 requested in array is not available, and will be truncated to dtype float32. To enable more dtypes, set the jax_enable_x64 configuration option or the JAX_ENABLE_X64 shell environment variable. See https://github.com/google/jax#current-gotchas for more.\n",
      "  warnings.warn(msg.format(dtype, fun_name , truncated_dtype))\n"
     ]
    }
   ],
   "source": [
    "ell, delta_ell = metrics.ell_binning()\n",
    "\n",
    "@jax.jit\n",
    "def FoM_DETF(weights, labels=batch_labels, inds=[5,6]):\n",
    "    \n",
    "    # Retrieve the probes\n",
    "    probes = metrics.get_probes(weights, labels)\n",
    "    \n",
    "    # Compute the derivatives of the data vector\n",
    "    @jax.jit\n",
    "    def mean(params):\n",
    "        cosmo = jax_cosmo.Cosmology(\n",
    "            Omega_c = params[0],\n",
    "            Omega_b = params[1],\n",
    "            h = params[2],\n",
    "            n_s =  params[3],\n",
    "            sigma8 = params[4],\n",
    "            Omega_k=0.,\n",
    "            w0=params[5], wa=params[6]\n",
    "        )\n",
    "        return jax_cosmo.angular_cl.angular_cl(cosmo, ell, probes, nonlinear_fn=jax_cosmo.power.halofit)\n",
    "\n",
    "    # Compute the jacobian of the data vector at fiducial cosmology\n",
    "    fid_params = np.array([0.27, 0.045, 0.67, 0.96, 0.840484495, -1., 0.])\n",
    "    jac_mean = jax.jacfwd(lambda x: mean(x).flatten())\n",
    "    \n",
    "    mu = mean(fid_params)\n",
    "    dmu = jac_mean(fid_params)\n",
    "        \n",
    "    # Compute the covariance matrix\n",
    "    cl_noise = jax_cosmo.angular_cl.noise_cl(ell, probes)\n",
    "    C = jax_cosmo.angular_cl.gaussian_cl_covariance(ell, probes, mu, cl_noise)\n",
    "    \n",
    "    invCov = np.linalg.inv(C)\n",
    "    \n",
    "    # Compute constant covariance FoM\n",
    "    t2 = np.einsum('pa,pq,qb->ab', dmu, invCov, dmu)\n",
    "    F = t2\n",
    "\n",
    "    # Compute covariance\n",
    "    i,j = inds\n",
    "    covmat_chunk = np.linalg.inv(F)[:, [i, j]][[i, j], :]\n",
    "    \n",
    "    # And get the FoM, the inverse area of the 2 sigma contour\n",
    "    # area.\n",
    "    area = 6.17 * np.pi * np.sqrt(np.linalg.det(covmat_chunk))\n",
    "    return 1/area"
   ]
  },
  {
   "cell_type": "markdown",
   "metadata": {},
   "source": [
    "## Create a neural network classifier"
   ]
  },
  {
   "cell_type": "code",
   "execution_count": 11,
   "metadata": {},
   "outputs": [],
   "source": [
    "from flax import nn\n",
    "from flax import optim"
   ]
  },
  {
   "cell_type": "code",
   "execution_count": 12,
   "metadata": {},
   "outputs": [],
   "source": [
    "nbins=3\n",
    "# Here is a trivial classifier for 3 bins\n",
    "class BinningNN(nn.Module):\n",
    "    def apply(self, x):\n",
    "        \"\"\"\n",
    "        Takes as an input the features to use for binning\n",
    "        \"\"\"\n",
    "        net = nn.Dense(x, 500, name='fc1')\n",
    "        net = nn.leaky_relu(net)\n",
    "        net = nn.BatchNorm(net)\n",
    "        net = nn.Dense(net, 500, name='fc2')\n",
    "        net = nn.leaky_relu(net)\n",
    "        net = nn.BatchNorm(net)\n",
    "        net = nn.Dense(net, 500, name='fc3')\n",
    "        net = nn.leaky_relu(net)\n",
    "        net = nn.BatchNorm(net)\n",
    "        # The output of the model should be a gumbell softmax layer\n",
    "        return nn.softmax(nn.Dense(net, nbins))"
   ]
  },
  {
   "cell_type": "code",
   "execution_count": 13,
   "metadata": {},
   "outputs": [],
   "source": [
    "@jit\n",
    "def train_step(optimizer, batch):\n",
    "    def loss_fn(model):\n",
    "        w = model(batch['features'])\n",
    "        \n",
    "        return 1./FoM_DETF(w, batch['labels'])\n",
    "    loss, g = value_and_grad(loss_fn)(optimizer.target)\n",
    "    optimizer = optimizer.apply_gradient(g)\n",
    "    return optimizer, loss"
   ]
  },
  {
   "cell_type": "code",
   "execution_count": 14,
   "metadata": {},
   "outputs": [],
   "source": [
    "# Let's get some initial weights\n",
    "_, initial_params = BinningNN.init_by_shape( rand.PRNGKey(0), [((1, 12), np.float32)])\n",
    "model = nn.Model(BinningNN, initial_params)"
   ]
  },
  {
   "cell_type": "code",
   "execution_count": 15,
   "metadata": {},
   "outputs": [],
   "source": [
    "optimizer = optim.Adam(learning_rate=0.001).create(model)"
   ]
  },
  {
   "cell_type": "code",
   "execution_count": 16,
   "metadata": {},
   "outputs": [],
   "source": [
    "import numpy as onp\n",
    "batch_size = 5000\n",
    "def get_batch():\n",
    "    inds = onp.random.choice(len(labels), batch_size)\n",
    "    return {'labels': labels[inds], 'features': features[inds]}"
   ]
  },
  {
   "cell_type": "code",
   "execution_count": 17,
   "metadata": {},
   "outputs": [],
   "source": [
    "losses = []"
   ]
  },
  {
   "cell_type": "code",
   "execution_count": 18,
   "metadata": {
    "scrolled": false
   },
   "outputs": [
    {
     "name": "stderr",
     "output_type": "stream",
     "text": [
      "/home/francois/.local/lib/python3.8/site-packages/jax/lax/lax.py:5591: UserWarning: Explicitly requested dtype <class 'jax.numpy.lax_numpy.int64'> requested in astype is not available, and will be truncated to dtype int32. To enable more dtypes, set the jax_enable_x64 configuration option or the JAX_ENABLE_X64 shell environment variable. See https://github.com/google/jax#current-gotchas for more.\n",
      "  warnings.warn(msg.format(dtype, fun_name , truncated_dtype))\n"
     ]
    },
    {
     "name": "stdout",
     "output_type": "stream",
     "text": [
      "Loss : 0.060084\n",
      "Loss : 0.018406\n",
      "Loss : 0.016993\n",
      "Loss : 0.016767\n",
      "Loss : 0.017496\n",
      "Loss : 0.016901\n",
      "Loss : 0.015647\n",
      "Loss : 0.015569\n",
      "Loss : 0.015788\n",
      "Loss : 0.015055\n",
      "Loss : 0.016284\n",
      "Loss : 0.014903\n",
      "Loss : 0.014478\n",
      "Loss : 0.014679\n",
      "Loss : 0.013919\n",
      "Loss : 0.013948\n",
      "Loss : 0.013831\n",
      "Loss : 0.013720\n",
      "Loss : 0.013641\n",
      "Loss : 0.014490\n",
      "Loss : 0.014215\n",
      "Loss : 0.013409\n",
      "Loss : 0.013412\n",
      "Loss : 0.013810\n",
      "Loss : 0.013854\n",
      "Loss : 0.013982\n",
      "Loss : 0.013744\n",
      "Loss : 0.013479\n",
      "Loss : 0.013459\n",
      "Loss : 0.013864\n",
      "Loss : 0.013955\n",
      "Loss : 0.013941\n",
      "Loss : 0.013346\n",
      "Loss : 0.014114\n",
      "Loss : 0.014597\n",
      "Loss : 0.013867\n",
      "Loss : 0.013475\n",
      "Loss : 0.013776\n",
      "Loss : 0.013404\n",
      "Loss : 0.013482\n",
      "Loss : 0.013345\n",
      "Loss : 0.013325\n",
      "Loss : 0.013364\n",
      "Loss : 0.013693\n",
      "Loss : 0.013431\n",
      "Loss : 0.013460\n",
      "Loss : 0.013241\n",
      "Loss : 0.013021\n",
      "Loss : 0.013623\n",
      "Loss : 0.013338\n",
      "Loss : 0.013764\n",
      "Loss : 0.013228\n",
      "Loss : 0.013783\n",
      "Loss : 0.013509\n",
      "Loss : 0.013506\n",
      "Loss : 0.013747\n",
      "Loss : 0.013137\n",
      "Loss : 0.014308\n",
      "Loss : 0.013285\n",
      "Loss : 0.013308\n",
      "Loss : 0.013232\n",
      "Loss : 0.013559\n",
      "Loss : 0.013478\n",
      "Loss : 0.012901\n",
      "Loss : 0.013253\n",
      "Loss : 0.013590\n",
      "Loss : 0.013385\n",
      "Loss : 0.013531\n",
      "Loss : 0.013267\n",
      "Loss : 0.013815\n",
      "Loss : 0.013428\n",
      "Loss : 0.013334\n",
      "Loss : 0.013975\n",
      "Loss : 0.013919\n",
      "Loss : 0.013623\n",
      "Loss : 0.014203\n",
      "Loss : 0.014085\n",
      "Loss : 0.013265\n",
      "Loss : 0.013506\n",
      "Loss : 0.013367\n",
      "Loss : 0.014097\n",
      "Loss : 0.013645\n",
      "Loss : 0.013190\n",
      "Loss : 0.013499\n",
      "Loss : 0.013555\n",
      "Loss : 0.013627\n",
      "Loss : 0.014037\n",
      "Loss : 0.014181\n",
      "Loss : 0.013527\n",
      "Loss : 0.013784\n",
      "Loss : 0.013359\n",
      "Loss : 0.013072\n",
      "Loss : 0.013352\n",
      "Loss : 0.013335\n",
      "Loss : 0.014063\n",
      "Loss : 0.014213\n",
      "Loss : 0.013667\n",
      "Loss : 0.013324\n",
      "Loss : 0.013596\n",
      "Loss : 0.013308\n"
     ]
    }
   ],
   "source": [
    "for i in range(1000):\n",
    "    batch = get_batch()\n",
    "    optimizer, loss = train_step(optimizer, batch)\n",
    "    losses.append(loss)\n",
    "    if i%10 == 0:\n",
    "        print('Loss : %f'%loss)"
   ]
  },
  {
   "cell_type": "code",
   "execution_count": 19,
   "metadata": {},
   "outputs": [
    {
     "data": {
      "text/plain": [
       "[<matplotlib.lines.Line2D at 0x7f9c582469d0>]"
      ]
     },
     "execution_count": 19,
     "metadata": {},
     "output_type": "execute_result"
    },
    {
     "data": {
      "image/png": "[encoded data removed]",
      "text/plain": [
       "<Figure size 432x288 with 1 Axes>"
      ]
     },
     "metadata": {
      "needs_background": "light"
     },
     "output_type": "display_data"
    }
   ],
   "source": [
    "plot(losses[10:])"
   ]
  },
  {
   "cell_type": "code",
   "execution_count": 20,
   "metadata": {},
   "outputs": [],
   "source": [
    "# Sweet :-D let's see if it did anything\n",
    "w  = optimizer.target(batch['features'])\n",
    "nzs = [kde_nz(batch['labels'], w[:,i], bw=0.05, zmax=4.) for i in range(nbins)]"
   ]
  },
  {
   "cell_type": "code",
   "execution_count": 21,
   "metadata": {},
   "outputs": [
    {
     "data": {
      "text/plain": [
       "<matplotlib.legend.Legend at 0x7f9c19d6f8b0>"
      ]
     },
     "execution_count": 21,
     "metadata": {},
     "output_type": "execute_result"
    },
    {
     "data": {
      "image/png": "[encoded data removed]",
      "text/plain": [
       "<Figure size 432x288 with 1 Axes>"
      ]
     },
     "metadata": {
      "needs_background": "light"
     },
     "output_type": "display_data"
    }
   ],
   "source": [
    "#figure(figsize=(13,7))\n",
    "z = np.linspace(0,4)\n",
    "nz_total = kde_nz(batch['labels'], np.ones_like(batch['labels']), bw=0.05)\n",
    "plot(z, nz_total(z)*len(nz_total.params[0]))\n",
    "for i, nz in enumerate(nzs):\n",
    "    plot(z, nz(z)*nz.params[1].sum(), '--', label='nz_%d'%i)\n",
    "xlim(0,4)\n",
    "legend()"
   ]
  },
  {
   "cell_type": "code",
   "execution_count": 22,
   "metadata": {},
   "outputs": [
    {
     "data": {
      "text/plain": [
       "75.14277126540426"
      ]
     },
     "execution_count": 22,
     "metadata": {},
     "output_type": "execute_result"
    }
   ],
   "source": [
    "1./0.013308"
   ]
  },
  {
   "cell_type": "code",
   "execution_count": 70,
   "metadata": {},
   "outputs": [],
   "source": [
    "# Exporting the trained model\n",
    "from flax import serialization\n",
    "import pickle\n",
    "\n",
    "with open('BinningNN_3x2_2b_FoM_DETF.pckl', 'wb') as file:\n",
    "    pickle.dump(serialization.to_bytes(optimizer.target), file)"
   ]
  },
  {
   "cell_type": "code",
   "execution_count": null,
   "metadata": {},
   "outputs": [],
   "source": []
  }
 ],
 "metadata": {
  "kernelspec": {
   "display_name": "Python 3",
   "language": "python",
   "name": "python3"
  },
  "language_info": {
   "codemirror_mode": {
    "name": "ipython",
    "version": 3
   },
   "file_extension": ".py",
   "mimetype": "text/x-python",
   "name": "python",
   "nbconvert_exporter": "python",
   "pygments_lexer": "ipython3",
   "version": "3.8.3"
  }
 },
 "nbformat": 4,
 "nbformat_minor": 2
}
