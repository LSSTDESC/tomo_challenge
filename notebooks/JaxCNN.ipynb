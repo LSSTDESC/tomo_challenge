{
 "cells": [
  {
   "cell_type": "code",
   "execution_count": 1,
   "metadata": {},
   "outputs": [
    {
     "name": "stdout",
     "output_type": "stream",
     "text": [
      "Found classifier NeuralNetwork\n",
      "Found classifier IBandOnly\n",
      "Found classifier RandomForest\n",
      "Found classifier Random\n"
     ]
    }
   ],
   "source": [
    "import sys\n",
    "sys.path.insert(0, '../')\n",
    "\n",
    "import numpy as onp\n",
    "import matplotlib.pyplot as plt\n",
    "%matplotlib inline\n",
    "\n",
    "import jax\n",
    "import jax.numpy as jnp\n",
    "jax.config.update(\"jax_enable_x64\", True)\n",
    "\n",
    "from flax import nn\n",
    "from flax import optim\n",
    "\n",
    "import tomo_challenge as tc\n",
    "from tomo_challenge import jax_metrics\n",
    "from tomo_challenge import metrics\n",
    "\n",
    "import warnings\n",
    "warnings.filterwarnings('ignore')\n",
    "\n",
    "from jax_cosmo.redshift import kde_nz"
   ]
  },
  {
   "cell_type": "code",
   "execution_count": 2,
   "metadata": {},
   "outputs": [],
   "source": [
    "training_file = \"../data/training.hdf5\"\n",
    "validation_file = \"../data/validation.hdf5\"\n",
    "bands = \"riz\"\n",
    "colors = True\n",
    "errors = True\n",
    "array = True\n",
    "\n",
    "x_train = jnp.array(tc.load_data(training_file, bands, colors=colors, errors=errors, array=array))\n",
    "z_train = jnp.array(tc.load_redshift(training_file))\n",
    "x_test = jnp.array(tc.load_data(validation_file, bands, colors=colors, errors=errors, array=array))\n",
    "z_test = jnp.array(tc.load_redshift(validation_file))\n",
    "\n",
    "assert len(x_train) == len(z_train)"
   ]
  },
  {
   "cell_type": "code",
   "execution_count": 3,
   "metadata": {},
   "outputs": [
    {
     "data": {
      "image/png": "[encoded data removed]",
      "text/plain": [
       "<Figure size 432x288 with 1 Axes>"
      ]
     },
     "metadata": {
      "needs_background": "light"
     },
     "output_type": "display_data"
    }
   ],
   "source": [
    "# Plotting redshift distribution\n",
    "plt.hist(z_train, bins=50, histtype='step')\n",
    "plt.xlabel('z');"
   ]
  },
  {
   "cell_type": "code",
   "execution_count": 4,
   "metadata": {},
   "outputs": [],
   "source": [
    "n_bins = 8\n",
    "class CNN(nn.Module):\n",
    "    def apply(self, x):\n",
    "        b = x.shape[0]\n",
    "        x = nn.Conv(x, features=128, kernel_size=(4,), padding='SAME')\n",
    "        x = nn.BatchNorm(x)\n",
    "        x = nn.leaky_relu(x)\n",
    "        x = nn.avg_pool(x, window_shape=(2,), padding='SAME')\n",
    "        x = nn.Conv(x, features=256, kernel_size=(4,), padding='SAME')\n",
    "        x = nn.BatchNorm(x)\n",
    "        x = nn.leaky_relu(x)\n",
    "        x = nn.avg_pool(x, window_shape=(2,), padding='SAME')\n",
    "        x = x.reshape(b, -1)\n",
    "        x = nn.Dense(x, features=128)\n",
    "        x = nn.BatchNorm(x)\n",
    "        x = nn.leaky_relu(x)\n",
    "        x = nn.Dense(x, features=n_bins)\n",
    "        x = nn.softmax(x)\n",
    "        return x"
   ]
  },
  {
   "cell_type": "code",
   "execution_count": 5,
   "metadata": {},
   "outputs": [],
   "source": [
    "# Initialize model and optimizer\n",
    "_, initial_params = CNN.init_by_shape(jax.random.PRNGKey(0), [((1, x_train.shape[1], 1), jnp.float32)])\n",
    "model = nn.Model(CNN, initial_params)\n",
    "\n",
    "optimizer = optim.Adam(learning_rate=0.001).create(model)"
   ]
  },
  {
   "cell_type": "code",
   "execution_count": 6,
   "metadata": {},
   "outputs": [],
   "source": [
    "@jax.jit\n",
    "def train_step(optimizer, batch):\n",
    "    def loss_fn(model):\n",
    "        w = model(batch['features'][..., jnp.newaxis])\n",
    "        return 1. / jax_metrics.compute_fom(w, batch['labels'])\n",
    "    \n",
    "    loss, g = jax.value_and_grad(loss_fn)(optimizer.target)\n",
    "    optimizer = optimizer.apply_gradient(g)\n",
    "    return optimizer, loss"
   ]
  },
  {
   "cell_type": "code",
   "execution_count": 7,
   "metadata": {},
   "outputs": [],
   "source": [
    "batch_size = 5000\n",
    "def get_batch():\n",
    "    inds = onp.random.choice(len(z_train), batch_size)\n",
    "    return {'labels': z_train[inds], 'features': x_train[inds]}"
   ]
  },
  {
   "cell_type": "code",
   "execution_count": null,
   "metadata": {},
   "outputs": [
    {
     "name": "stdout",
     "output_type": "stream",
     "text": [
      "Epoch: 0, Loss: 0.00531146314479478\n",
      "Epoch: 10, Loss: 0.0005737615185295224\n",
      "Epoch: 20, Loss: 0.000416075801396998\n",
      "Epoch: 30, Loss: 0.0003317181615694712\n"
     ]
    }
   ],
   "source": [
    "epochs = 200\n",
    "\n",
    "losses = []\n",
    "\n",
    "for epoch in range(epochs):\n",
    "    batch = get_batch()\n",
    "    optimizer, loss = train_step(optimizer, batch)\n",
    "    losses.append(loss)\n",
    "    if epoch % 10 == 0:\n",
    "        print(f'Epoch: {epoch}, Loss: {loss}')"
   ]
  },
  {
   "cell_type": "code",
   "execution_count": null,
   "metadata": {},
   "outputs": [],
   "source": [
    "plt.plot(losses)\n",
    "plt.yscale('log')"
   ]
  },
  {
   "cell_type": "code",
   "execution_count": null,
   "metadata": {},
   "outputs": [],
   "source": [
    "bs = 10000\n",
    "s = len(x_test)\n",
    "weights = jnp.concatenate([optimizer.target(x_test[bs*i:min((bs*(i+1)), s)][..., jnp.newaxis]) for i\n",
    "                              in range(s//bs + 1)])\n",
    "\n",
    "assert len(weights) == s\n",
    "tomo_bin = weights.argmax(axis=-1)"
   ]
  },
  {
   "cell_type": "code",
   "execution_count": null,
   "metadata": {},
   "outputs": [],
   "source": [
    "fig = plt.figure(figsize=(10, 6))\n",
    "for i in range(n_bins):\n",
    "    plt.hist(z_test[tomo_bin == i], bins=100, alpha=0.4, label=f'bin {i}')\n",
    "plt.xlabel('z')\n",
    "plt.legend();"
   ]
  },
  {
   "cell_type": "code",
   "execution_count": null,
   "metadata": {},
   "outputs": [],
   "source": [
    "jax_metrics.compute_scores(tomo_bin, z_test)"
   ]
  }
 ],
 "metadata": {
  "kernelspec": {
   "display_name": "Python [conda env:.conda-tomo-jax]",
   "language": "python",
   "name": "conda-env-.conda-tomo-jax-py"
  },
  "language_info": {
   "codemirror_mode": {
    "name": "ipython",
    "version": 3
   },
   "file_extension": ".py",
   "mimetype": "text/x-python",
   "name": "python",
   "nbconvert_exporter": "python",
   "pygments_lexer": "ipython3",
   "version": "3.8.5"
  }
 },
 "nbformat": 4,
 "nbformat_minor": 4
}
